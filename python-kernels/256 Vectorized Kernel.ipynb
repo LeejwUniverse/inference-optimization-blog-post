{
 "cells": [
  {
   "cell_type": "code",
   "execution_count": 86,
   "id": "d845fd1f",
   "metadata": {},
   "outputs": [],
   "source": [
    "import collections \n",
    "import torch\n",
    "import torch.nn as nn\n",
    "import torch.nn.functional as F\n",
    "\n",
    "d_input = [i+1 for i in range(4096)]\n",
    "d_weights = [i+1 for i in range(5120)]\n",
    "d_output = [0] * 4\n",
    "input_shared_mem = [-1 for _ in range(4096)]\n",
    "weight_shared_mem = [-1 for _ in range(5120)]\n",
    "sum_reduce_shared_mem = [0] * 256\n",
    "input_registers = collections.defaultdict(lambda : [0 for _ in range(32)])\n",
    "weight_registers = collections.defaultdict(lambda : [0 for _ in range(20)])\n",
    "threads = 256\n",
    "padded_input_length = 8\n",
    "padding = 2\n",
    "kernel_size = 5\n",
    "output_length = 4\n",
    "\n",
    "input_tensor = torch.tensor(d_input, dtype=torch.float32).view(1, 1024, 4)\n",
    "weight_tensor = torch.tensor(d_weights, dtype=torch.float32).view(1, 1024, 5)\n",
    "conv = nn.Conv1d(in_channels=1024, out_channels=1, kernel_size=5, stride=1, padding=2, bias=False)\n",
    "conv.weight = nn.Parameter(weight_tensor)"
   ]
  },
  {
   "cell_type": "code",
   "execution_count": 87,
   "id": "c0ab256d",
   "metadata": {},
   "outputs": [],
   "source": [
    "for i in range(4):\n",
    "    for tdIdx in range(threads):\n",
    "        td_offset = 4 * (i*threads + tdIdx)\n",
    "        for v in range(4):\n",
    "            input_shared_mem[td_offset+v] = d_input[td_offset+v]\n",
    "\n",
    "for i in range(4):\n",
    "    for tdIdx in range(threads):\n",
    "        td_offset = (16*tdIdx) + (4*i)\n",
    "        for v in range(4):\n",
    "            input_registers[tdIdx][i*padded_input_length + padding + v] = input_shared_mem[td_offset+v]"
   ]
  },
  {
   "cell_type": "code",
   "execution_count": 88,
   "id": "d78cac06",
   "metadata": {},
   "outputs": [],
   "source": [
    "for i in range(5):\n",
    "    for tdIdx in range(threads):\n",
    "        td_offset = 4 * (i*threads + tdIdx)\n",
    "        for v in range(4):\n",
    "            weight_shared_mem[td_offset+v] = d_weights[td_offset+v]\n",
    "\n",
    "for i in range(4):\n",
    "    for tdIdx in range(threads):\n",
    "        base_index = 20*tdIdx + kernel_size*i\n",
    "        for v in range(4):\n",
    "            weight_registers[tdIdx][i*kernel_size+v] = weight_shared_mem[base_index+v]\n",
    "        weight_registers[tdIdx][i*kernel_size+4] = weight_shared_mem[base_index+4]"
   ]
  },
  {
   "cell_type": "code",
   "execution_count": 93,
   "id": "d4351b48",
   "metadata": {},
   "outputs": [],
   "source": [
    "for tileIdx in range(4):\n",
    "    for tdIdx in range(threads):\n",
    "        res = 0.0\n",
    "        for dotIdx in range(kernel_size):\n",
    "            for rowIdx in range(4):\n",
    "                res += input_registers[tdIdx][tileIdx + dotIdx + (padded_input_length*rowIdx)] * \\\n",
    "                weight_registers[tdIdx][dotIdx + (kernel_size*rowIdx)]\n",
    "        sum_reduce_shared_mem[tdIdx] = res \n",
    "    d_output[tileIdx] = sum(sum_reduce_shared_mem)\n",
    "d_output_tensor = torch.tensor(d_output, dtype=torch.float32).view(1, 1, -1)"
   ]
  },
  {
   "cell_type": "code",
   "execution_count": 94,
   "id": "bd63951a",
   "metadata": {},
   "outputs": [
    {
     "name": "stdout",
     "output_type": "stream",
     "text": [
      "[21484270592.0, 28646747136.0, 28638356480.0, 21479550464.0]\n",
      "Output: tensor([[[2.1484e+10, 2.8647e+10, 2.8638e+10, 2.1480e+10]]],\n",
      "       grad_fn=<ConvolutionBackward0>)\n",
      "The outputs are approximately equal within a margin of 10^-1.\n"
     ]
    }
   ],
   "source": [
    "print(d_output)\n",
    "output = conv(input_tensor)\n",
    "\n",
    "\n",
    "print(\"Output:\", output)\n",
    "\n",
    "assert torch.allclose(d_output_tensor, output, rtol=1e-5, atol=0.1), \"The outputs are not approximately equal\"\n",
    "\n",
    "print(\"The outputs are approximately equal within a margin of 10^-1.\")"
   ]
  },
  {
   "cell_type": "code",
   "execution_count": null,
   "id": "d09b1445",
   "metadata": {},
   "outputs": [],
   "source": []
  }
 ],
 "metadata": {
  "kernelspec": {
   "display_name": "diffusion",
   "language": "python",
   "name": "diffusion"
  },
  "language_info": {
   "codemirror_mode": {
    "name": "ipython",
    "version": 3
   },
   "file_extension": ".py",
   "mimetype": "text/x-python",
   "name": "python",
   "nbconvert_exporter": "python",
   "pygments_lexer": "ipython3",
   "version": "3.11.5"
  }
 },
 "nbformat": 4,
 "nbformat_minor": 5
}
