{
 "cells": [
  {
   "cell_type": "code",
   "execution_count": 29,
   "id": "f1ce496f",
   "metadata": {},
   "outputs": [],
   "source": [
    "import collections \n",
    "import torch\n",
    "import torch.nn as nn\n",
    "import torch.nn.functional as F\n",
    "\n",
    "input_channels = 4\n",
    "input_length = 4\n",
    "padded_input_length = 8\n",
    "padding = 2\n",
    "kernel_size = 5\n",
    "rows_per_thread = 1\n",
    "threads = input_channels//rows_per_thread\n",
    "padded_input_length = (padding*2) + input_length\n",
    "input_accesses_per_thread = (input_channels * input_length)//(threads*4)\n",
    "weight_accesses_per_thread = (input_channels * kernel_size)//(threads)\n",
    "d_input = [i+1 for i in range(input_channels*input_length)]\n",
    "d_weights = [i+1 for i in range(input_channels*kernel_size)]\n",
    "d_output = [0] * input_length\n",
    "shared_mem = [-1 for _ in range(max(input_length, kernel_size)*input_channels)]\n",
    "input_registers = collections.defaultdict(lambda : [0 for _ in range(rows_per_thread*padded_input_length)])\n",
    "weight_registers = collections.defaultdict(lambda : [0 for _ in range(rows_per_thread*kernel_size)])\n",
    "\n",
    "\n",
    "input_tensor = torch.tensor(d_input, dtype=torch.float32).view(1, input_channels, input_length)\n",
    "weight_tensor = torch.tensor(d_weights, dtype=torch.float32).view(1, input_channels, kernel_size)\n",
    "conv = nn.Conv1d(in_channels=input_channels, out_channels=1, kernel_size=kernel_size, stride=1, padding=padding, bias=False)\n",
    "conv.weight = nn.Parameter(weight_tensor)"
   ]
  },
  {
   "cell_type": "code",
   "execution_count": 30,
   "id": "1503297b",
   "metadata": {},
   "outputs": [],
   "source": [
    "for tdIdx in range(threads):    \n",
    "    for rowIdx in range(input_accesses_per_thread):\n",
    "        td_offset = 4 * (rowIdx*threads + tdIdx)\n",
    "        shared_mem[td_offset + 0] = d_input[td_offset + 0]\n",
    "        shared_mem[td_offset + 1] = d_input[td_offset + 1]\n",
    "        shared_mem[td_offset + 2] = d_input[td_offset + 2]\n",
    "        shared_mem[td_offset + 3] = d_input[td_offset + 3]\n",
    "\n",
    "for tdIdx in range(threads):\n",
    "    for rowIdx in range(rows_per_thread):\n",
    "        for colIdx in range(0, input_length, 4):\n",
    "            reg_index = padding + rowIdx*padded_input_length + colIdx\n",
    "            shared_mem_index = input_length*(rows_per_thread*tdIdx + rowIdx) + colIdx \n",
    "            input_registers[tdIdx][reg_index + 0] = shared_mem[shared_mem_index + 0]\n",
    "            input_registers[tdIdx][reg_index + 1] = shared_mem[shared_mem_index + 1]\n",
    "            input_registers[tdIdx][reg_index + 2] = shared_mem[shared_mem_index + 2]\n",
    "            input_registers[tdIdx][reg_index + 3] = shared_mem[shared_mem_index + 3]\n",
    "\n",
    "for tdIdx in range(threads):\n",
    "    for rowIdx in range(weight_accesses_per_thread):\n",
    "        td_offset = (rowIdx*threads) + tdIdx \n",
    "        shared_mem[td_offset] = d_weights[td_offset]\n",
    "\n",
    "for tdIdx in range(threads):\n",
    "    for rowIdx in range(rows_per_thread):\n",
    "        for colIdx in range(kernel_size):\n",
    "            reg_idx = (kernel_size*rowIdx) + colIdx\n",
    "            shared_mem_index = kernel_size*(rows_per_thread*tdIdx + rowIdx) + colIdx\n",
    "            weight_registers[tdIdx][reg_idx] = shared_mem[shared_mem_index]\n",
    "        \n",
    "for tileIdx in range(input_length):        \n",
    "    for tdIdx in range(threads):\n",
    "        res = 0.0 \n",
    "        for dotIdx in range(kernel_size):\n",
    "            for rowIdx in range(rows_per_thread):\n",
    "                res += input_registers[tdIdx][tileIdx + dotIdx + (padded_input_length*rowIdx)] * \\\n",
    "                weight_registers[tdIdx][dotIdx + (kernel_size*rowIdx)]\n",
    "        shared_mem[tdIdx] = res\n",
    "    d_output[tileIdx] = sum(shared_mem[:threads])"
   ]
  },
  {
   "cell_type": "code",
   "execution_count": 34,
   "id": "ae161fac",
   "metadata": {},
   "outputs": [
    {
     "name": "stdout",
     "output_type": "stream",
     "text": [
      "[1412.0, 1916.0, 1780.0, 1334.0]\n",
      "Output: tensor([[[1412., 1916., 1780., 1334.]]], grad_fn=<ConvolutionBackward0>)\n",
      "The outputs are approximately equal within a margin of 10^-3.\n"
     ]
    }
   ],
   "source": [
    "print(d_output)\n",
    "d_output_tensor = torch.tensor(d_output, dtype=torch.float32).view(1, 1, -1)\n",
    "output = conv(input_tensor)\n",
    "\n",
    "\n",
    "print(\"Output:\", output)\n",
    "\n",
    "assert torch.allclose(d_output_tensor, output, rtol=1e-5, atol=0.001), \"The outputs are not approximately equal\"\n",
    "\n",
    "print(\"The outputs are approximately equal within a margin of 10^-3.\")"
   ]
  },
  {
   "cell_type": "code",
   "execution_count": null,
   "id": "8af5b6fb",
   "metadata": {},
   "outputs": [],
   "source": []
  }
 ],
 "metadata": {
  "kernelspec": {
   "display_name": "diffusion",
   "language": "python",
   "name": "diffusion"
  },
  "language_info": {
   "codemirror_mode": {
    "name": "ipython",
    "version": 3
   },
   "file_extension": ".py",
   "mimetype": "text/x-python",
   "name": "python",
   "nbconvert_exporter": "python",
   "pygments_lexer": "ipython3",
   "version": "3.11.5"
  }
 },
 "nbformat": 4,
 "nbformat_minor": 5
}
